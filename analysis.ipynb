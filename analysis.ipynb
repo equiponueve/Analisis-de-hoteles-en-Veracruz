{
 "cells": [
  {
   "cell_type": "code",
   "execution_count": 1,
   "id": "9dd60047-027f-434a-82d2-86d875746a4c",
   "metadata": {},
   "outputs": [],
   "source": [
    "import matplotlib.pyplot as plt\n",
    "import seaborn as sns\n",
    "\n",
    "def exploratory_analysis(data):\n",
    "   \n",
    "    # Estadísticas descriptivas\n",
    "    print(\"Estadísticas descriptivas:\")\n",
    "    print(data.describe())\n",
    "\n",
    "    # Crear histogramas para variables numéricas\n",
    "    for col in ['Calificación General', 'Limpieza', 'Servicio', \n",
    "                'Relación costo-beneficio', 'Comodidad', 'Alimentos y Bebidas']:\n",
    "        if col in data.columns:\n",
    "            plt.figure(figsize=(8, 6))\n",
    "            sns.histplot(data[col], bins=10, kde=True, color=\"skyblue\")\n",
    "            plt.title(f\"Distribución de {col}\")\n",
    "            plt.xlabel(col)\n",
    "            plt.ylabel(\"Frecuencia\")\n",
    "            plt.savefig(f\"../visualizations/histograma_{col.lower().replace(' ', '_')}.png\")\n",
    "            plt.close()\n",
    "\n",
    "    # Crear matriz de correlaciones\n",
    "    plt.figure(figsize=(10, 8))\n",
    "    sns.heatmap(data.corr(), annot=True, cmap=\"coolwarm\", fmt=\".2f\")\n",
    "    plt.title(\"Matriz de Correlaciones\")\n",
    "    plt.savefig(\"../visualizations/matriz_correlaciones.png\")\n",
    "    plt.close()\n"
   ]
  },
  {
   "cell_type": "code",
   "execution_count": null,
   "id": "7e706c8e-beaa-4564-b008-b66fc55f8806",
   "metadata": {},
   "outputs": [],
   "source": []
  }
 ],
 "metadata": {
  "kernelspec": {
   "display_name": "Python 3 (ipykernel)",
   "language": "python",
   "name": "python3"
  },
  "language_info": {
   "codemirror_mode": {
    "name": "ipython",
    "version": 3
   },
   "file_extension": ".py",
   "mimetype": "text/x-python",
   "name": "python",
   "nbconvert_exporter": "python",
   "pygments_lexer": "ipython3",
   "version": "3.12.3"
  }
 },
 "nbformat": 4,
 "nbformat_minor": 5
}
