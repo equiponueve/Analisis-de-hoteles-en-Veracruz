{
 "cells": [
  {
   "cell_type": "code",
   "execution_count": 1,
   "id": "4f370113-c6fd-4a92-ace1-d2c382728889",
   "metadata": {},
   "outputs": [],
   "source": [
    "import numpy as np\n",
    "\n",
    "def clean_data(data):\n",
    "\n",
    "    # Eliminar columnas innecesarias\n",
    "    data = data.drop(columns=['Unnamed: 0'], errors='ignore')\n",
    "    \n",
    "    # Manejar valores nulos\n",
    "    print(\"Valores nulos detectados:\")\n",
    "    print(data.isnull().sum())\n",
    "    data = data.dropna()  # Puedes usar data.fillna(valor) si es necesario\n",
    "\n",
    "    # Verificar y ajustar rangos de calificaciones\n",
    "    for col in ['Calificación General', 'Limpieza', 'Servicio', \n",
    "                'Relación costo-beneficio', 'Comodidad', 'Alimentos y Bebidas']:\n",
    "        if col in data.columns:\n",
    "            if not data[col].between(3.0, 5.0).all():\n",
    "                print(f\"Ajustando valores fuera de rango en {col}...\")\n",
    "                data[col] = np.clip(data[col], 3.0, 5.0)\n",
    "\n",
    "    # Eliminar duplicados\n",
    "    data = data.drop_duplicates()\n",
    "    print(\"Datos después de la limpieza:\")\n",
    "    print(data.head())\n",
    "    return data\n"
   ]
  },
  {
   "cell_type": "code",
   "execution_count": null,
   "id": "725de014-56a0-4f19-bdae-a633dbbe93c3",
   "metadata": {},
   "outputs": [],
   "source": []
  }
 ],
 "metadata": {
  "kernelspec": {
   "display_name": "Python 3 (ipykernel)",
   "language": "python",
   "name": "python3"
  },
  "language_info": {
   "codemirror_mode": {
    "name": "ipython",
    "version": 3
   },
   "file_extension": ".py",
   "mimetype": "text/x-python",
   "name": "python",
   "nbconvert_exporter": "python",
   "pygments_lexer": "ipython3",
   "version": "3.12.3"
  }
 },
 "nbformat": 4,
 "nbformat_minor": 5
}
